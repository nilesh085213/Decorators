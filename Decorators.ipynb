{
 "cells": [
  {
   "cell_type": "code",
   "execution_count": 4,
   "id": "5fbafc46-4bc0-4f51-a48d-85a936b4f29a",
   "metadata": {},
   "outputs": [],
   "source": [
    "def test():\n",
    "    print(\"this is the start of my fun\")\n",
    "    print(\"this is my fun to test\")\n",
    "    print(4+5)\n",
    "    print(\"this is the end of my fun\")"
   ]
  },
  {
   "cell_type": "code",
   "execution_count": 5,
   "id": "d7fe528a-e2dc-44aa-9934-3bbb6e02a24d",
   "metadata": {},
   "outputs": [
    {
     "name": "stdout",
     "output_type": "stream",
     "text": [
      "this is the start of my fun\n",
      "this is my fun to test\n",
      "9\n",
      "this is the end of my fun\n"
     ]
    }
   ],
   "source": [
    "test()"
   ]
  },
  {
   "cell_type": "code",
   "execution_count": 7,
   "id": "53c9e3e6-e760-4759-8c2d-c9367360d728",
   "metadata": {},
   "outputs": [],
   "source": [
    "def deco(func):\n",
    "    def inner_dec():\n",
    "        print(\"this is the start of my fun\")\n",
    "        func()\n",
    "        print(\"this is the end of my fun\")\n",
    "    return inner_dec"
   ]
  },
  {
   "cell_type": "code",
   "execution_count": 10,
   "id": "ec2d5960-2c7d-489c-a9b3-e331a2058688",
   "metadata": {},
   "outputs": [],
   "source": [
    "@deco\n",
    "def test1():\n",
    "    print(6+7)\n"
   ]
  },
  {
   "cell_type": "code",
   "execution_count": 11,
   "id": "6f34a490-90ed-4f39-9d9f-01e1abc8455f",
   "metadata": {},
   "outputs": [
    {
     "name": "stdout",
     "output_type": "stream",
     "text": [
      "this is the start of my fun\n",
      "13\n",
      "this is the end of my fun\n"
     ]
    }
   ],
   "source": [
    "test1()"
   ]
  },
  {
   "cell_type": "code",
   "execution_count": 12,
   "id": "d0558ed8-6ea6-4aff-a230-a90d4ec19d04",
   "metadata": {},
   "outputs": [],
   "source": [
    "import time \n",
    "\n",
    "def timer_test(func):\n",
    "    def timmer_test_inner():\n",
    "        start = time.time()\n",
    "        func()\n",
    "        end = time.time()\n",
    "        print(end - start)\n",
    "    return timmer_test_inner"
   ]
  },
  {
   "cell_type": "code",
   "execution_count": 14,
   "id": "574afd77-f959-4a49-8212-6c02fe4c6213",
   "metadata": {},
   "outputs": [],
   "source": [
    "def test2():\n",
    "    print(45+56)"
   ]
  },
  {
   "cell_type": "code",
   "execution_count": 15,
   "id": "bd290973-45a3-490e-902f-5d3c0fdcc77b",
   "metadata": {},
   "outputs": [
    {
     "name": "stdout",
     "output_type": "stream",
     "text": [
      "101\n"
     ]
    }
   ],
   "source": [
    "test2()"
   ]
  },
  {
   "cell_type": "code",
   "execution_count": 16,
   "id": "c584ef0c-bd52-4bda-9897-fc22716ad7c2",
   "metadata": {},
   "outputs": [],
   "source": [
    "@timer_test\n",
    "def test2():\n",
    "    print(45+56)"
   ]
  },
  {
   "cell_type": "code",
   "execution_count": 17,
   "id": "0061c4a9-d284-41be-a034-d47c974032ad",
   "metadata": {},
   "outputs": [
    {
     "name": "stdout",
     "output_type": "stream",
     "text": [
      "101\n",
      "4.935264587402344e-05\n"
     ]
    }
   ],
   "source": [
    "test2()"
   ]
  },
  {
   "cell_type": "code",
   "execution_count": null,
   "id": "2628672e-48f5-4b87-a500-4bf7f7257f15",
   "metadata": {},
   "outputs": [],
   "source": [
    "def test3()"
   ]
  }
 ],
 "metadata": {
  "kernelspec": {
   "display_name": "Python 3 (ipykernel)",
   "language": "python",
   "name": "python3"
  },
  "language_info": {
   "codemirror_mode": {
    "name": "ipython",
    "version": 3
   },
   "file_extension": ".py",
   "mimetype": "text/x-python",
   "name": "python",
   "nbconvert_exporter": "python",
   "pygments_lexer": "ipython3",
   "version": "3.10.8"
  }
 },
 "nbformat": 4,
 "nbformat_minor": 5
}
